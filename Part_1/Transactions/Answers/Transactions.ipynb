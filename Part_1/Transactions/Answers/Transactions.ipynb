{
 "cells": [
  {
   "cell_type": "markdown",
   "source": [
    "# Clear dimensions to be exposed through BI Reporting tool\n",
    "1. Load and Clean Data"
   ],
   "metadata": {
    "collapsed": false
   },
   "id": "203e8ad2c3d845ae"
  },
  {
   "cell_type": "code",
   "outputs": [],
   "source": [
    "import pandas as pd\n",
    "import numpy as np\n",
    "import sqlite3\n",
    "import re\n",
    "\n",
    "dates_df = pd.read_csv('../data/de_dates.csv')\n",
    "transactions_df = pd.read_csv('../data/de_shop_transactions_20230821.csv')\n",
    "\n",
    "# Replace special error values with None\n",
    "transactions_df.replace('#ERROR!', None, inplace=True)\n",
    "\n",
    "# Standardize phone numbers\n",
    "def clean_phone_number(phone):\n",
    "    if pd.isna(phone) or phone is None:\n",
    "        return None\n",
    "    phone = re.sub(r'\\D', '', phone)  \n",
    "    if len(phone) == 10:  \n",
    "        return f'({phone[:3]}) {phone[3:6]}-{phone[6:]}'\n",
    "    elif len(phone) == 11 and phone.startswith('1'):  \n",
    "        return f'+1 ({phone[1:4]}) {phone[4:7]}-{phone[7:]}'\n",
    "    else:\n",
    "        return None\n",
    "transactions_df['PHONE'] = transactions_df['PHONE'].apply(clean_phone_number)\n",
    "\n",
    "# Validate numeric fields\n",
    "transactions_df = transactions_df[pd.to_numeric(transactions_df['TOTAL_AMOUNT'], errors='coerce').notnull()]\n",
    "transactions_df = transactions_df[pd.to_numeric(transactions_df['QUANTITYORDERED'], errors='coerce').notnull()]\n",
    "transactions_df = transactions_df[transactions_df['QUANTITYORDERED'] != 0]\n",
    "\n",
    "# Convert ORDERDATE to uniform date format (YYYY-MM-DD)\n",
    "transactions_df['ORDERDATE'] = pd.to_datetime(transactions_df['ORDERDATE'], format='%m/%d/%Y %H:%M').dt.date\n",
    "dates_df['CALENDAR_DATE'] = pd.to_datetime(dates_df['CALENDAR_DATE'], format='%Y-%m-%d').dt.date"
   ],
   "metadata": {
    "collapsed": false,
    "ExecuteTime": {
     "end_time": "2024-06-27T13:32:27.740637Z",
     "start_time": "2024-06-27T13:32:27.400787Z"
    }
   },
   "id": "44cf2482f1b6be66",
   "execution_count": 1
  },
  {
   "cell_type": "markdown",
   "source": [
    "2. Organize data into dimensions and fact table"
   ],
   "metadata": {
    "collapsed": false
   },
   "id": "9c16e0bfb6b22252"
  },
  {
   "cell_type": "code",
   "execution_count": 2,
   "id": "initial_id",
   "metadata": {
    "collapsed": true,
    "ExecuteTime": {
     "end_time": "2024-06-27T13:32:29.664374Z",
     "start_time": "2024-06-27T13:32:29.605015Z"
    }
   },
   "outputs": [
    {
     "name": "stdout",
     "output_type": "stream",
     "text": [
      "Executed create_customers_dimension\n",
      "Executed create_products_dimension\n"
     ]
    }
   ],
   "source": [
    "# SQLite database in memory\n",
    "conn = sqlite3.connect(':memory:')\n",
    "cursor = conn.cursor()\n",
    "\n",
    "# Load the cleaned data into SQLite tables\n",
    "dates_df.to_sql('dates', conn, index=False, if_exists='replace')\n",
    "transactions_df.to_sql('transactions', conn, index=False, if_exists='replace')\n",
    "\n",
    "# Create dimensions and fact table\n",
    "queries = {\n",
    "    \"create_customers_dimension\": \"\"\"\n",
    "        CREATE TABLE customers_dim AS\n",
    "        SELECT DISTINCT CUSTOMERNAME AS customer_name, PHONE AS phone, ADDRESSLINE1 AS address1, ADDRESSLINE2 AS address2,\n",
    "                        CITY AS city, STATE AS state, POSTALCODE AS postal_code, COUNTRY AS country,\n",
    "                        CONTACTLASTNAME AS contact_last_name, CONTACTFIRSTNAME AS contact_first_name, DEALSIZE AS deal_size\n",
    "        FROM transactions;\n",
    "    \"\"\",\n",
    "    \"create_products_dimension\": \"\"\"\n",
    "        CREATE TABLE products_dim AS\n",
    "        SELECT DISTINCT PRODUCTCODE AS product_code\n",
    "        FROM transactions;\n",
    "    \"\"\"\n",
    "}\n",
    "\n",
    "for query_name, query in queries.items():\n",
    "    cursor.execute(query)\n",
    "    print(f\"Executed {query_name}\")"
   ]
  },
  {
   "cell_type": "code",
   "outputs": [
    {
     "name": "stdout",
     "output_type": "stream",
     "text": [
      "   order_date  fiscal_year  fiscal_quarter  fiscal_month_number\n",
      "0  2003-02-24         2021               1                    1\n",
      "1  2003-02-24         2021               1                    1\n",
      "2  2003-02-24         2021               1                    1\n",
      "3  2003-02-24         2021               1                    1\n",
      "4  2003-02-24         2021               1                    1\n"
     ]
    }
   ],
   "source": [
    "create_transactions_fact_query = \"\"\"\n",
    "    CREATE TABLE transactions_fact AS\n",
    "    SELECT t.ORDERNUMBER AS order_number, t.QUANTITYORDERED AS quantity_ordered, t.ORDERLINENUMBER AS order_line_number,\n",
    "           t.TOTAL_AMOUNT AS total_amount, t.ORDERDATE AS order_date, t.QTR_ID AS quarter_id, t.MONTH_ID AS month_id,\n",
    "           t.YEAR_ID AS year_id, t.PRODUCTCODE AS product_code, t.CUSTOMERNAME AS customer_name,\n",
    "           d.FISCAL_YEAR AS fiscal_year, d.FISCAL_QUARTER AS fiscal_quarter, d.FISCAL_MONTH_NUMBER AS fiscal_month_number\n",
    "    FROM transactions t\n",
    "    LEFT JOIN dates d ON t.YEAR_ID = d.FISCAL_YEAR;\n",
    "\"\"\"\n",
    "\n",
    "cursor.execute(create_transactions_fact_query)\n",
    "\n",
    "# Verify the result\n",
    "transactions_fact_df = pd.read_sql_query(\"SELECT * FROM transactions_fact\", conn)\n",
    "print(transactions_fact_df[['order_date', 'fiscal_year', 'fiscal_quarter', 'fiscal_month_number']].head())\n"
   ],
   "metadata": {
    "collapsed": false,
    "ExecuteTime": {
     "end_time": "2024-06-27T13:32:46.154266Z",
     "start_time": "2024-06-27T13:32:40.783520Z"
    }
   },
   "id": "7240069517031fda",
   "execution_count": 3
  },
  {
   "cell_type": "markdown",
   "source": [
    "3. Export Dimensions and Fact Tables to CSV Files so it can be used in the BI tool"
   ],
   "metadata": {
    "collapsed": false
   },
   "id": "5645135525335b09"
  },
  {
   "cell_type": "code",
   "outputs": [
    {
     "name": "stdout",
     "output_type": "stream",
     "text": [
      "Dimensions and fact table exported to CSV files.\n"
     ]
    }
   ],
   "source": [
    "# Export dimensions and fact table to CSV files\n",
    "customers_dim_df = pd.read_sql_query(\"SELECT * FROM customers_dim\", conn)\n",
    "customers_dim_df.to_csv('../data/customers_dim.csv', index=False)\n",
    "\n",
    "products_dim_df = pd.read_sql_query(\"SELECT * FROM products_dim\", conn)\n",
    "products_dim_df.to_csv('../data/products_dim.csv', index=False)\n",
    "\n",
    "transactions_fact_df = pd.read_sql_query(\"SELECT * FROM transactions_fact\", conn)\n",
    "transactions_fact_df.to_csv('../data/transactions_fact.csv', index=False)\n",
    "\n",
    "print(\"Dimensions and fact table exported to CSV files.\")\n"
   ],
   "metadata": {
    "collapsed": false,
    "ExecuteTime": {
     "end_time": "2024-06-27T13:33:08.164602Z",
     "start_time": "2024-06-27T13:33:00.283424Z"
    }
   },
   "id": "fb612d882e9be053",
   "execution_count": 4
  },
  {
   "cell_type": "markdown",
   "source": [
    "4. Total Sales"
   ],
   "metadata": {
    "collapsed": false
   },
   "id": "eaa0b8814381d7be"
  },
  {
   "cell_type": "code",
   "outputs": [
    {
     "name": "stdout",
     "output_type": "stream",
     "text": [
      "   total_sales\n",
      "0    509689054\n"
     ]
    }
   ],
   "source": [
    "total_sales_query = \"\"\"\n",
    "    SELECT SUM(total_amount) AS total_sales\n",
    "    FROM transactions_fact\n",
    "    WHERE total_amount > 0;\n",
    "\"\"\"\n",
    "\n",
    "total_sales_df = pd.read_sql_query(total_sales_query, conn)\n",
    "print(total_sales_df)"
   ],
   "metadata": {
    "collapsed": false,
    "ExecuteTime": {
     "end_time": "2024-06-27T13:33:16.810761Z",
     "start_time": "2024-06-27T13:33:16.751020Z"
    }
   },
   "id": "f55dea46651e3f54",
   "execution_count": 5
  },
  {
   "cell_type": "markdown",
   "source": [
    "5. Total Refunds"
   ],
   "metadata": {
    "collapsed": false
   },
   "id": "21c79a94af268846"
  },
  {
   "cell_type": "code",
   "outputs": [
    {
     "name": "stdout",
     "output_type": "stream",
     "text": [
      "   total_refunds\n",
      "0     -523619180\n"
     ]
    }
   ],
   "source": [
    "total_refunds_query = \"\"\"\n",
    "    SELECT SUM(total_amount) AS total_refunds\n",
    "    FROM transactions_fact\n",
    "    WHERE total_amount < 0;\n",
    "\"\"\"\n",
    "\n",
    "total_refunds_df = pd.read_sql_query(total_refunds_query, conn)\n",
    "print(total_refunds_df)"
   ],
   "metadata": {
    "collapsed": false,
    "ExecuteTime": {
     "end_time": "2024-06-27T13:33:18.847513Z",
     "start_time": "2024-06-27T13:33:18.784897Z"
    }
   },
   "id": "e5303af018a9c11c",
   "execution_count": 6
  },
  {
   "cell_type": "markdown",
   "source": [
    "6. Total Items "
   ],
   "metadata": {
    "collapsed": false
   },
   "id": "c0092bdd259b2f04"
  },
  {
   "cell_type": "code",
   "outputs": [
    {
     "name": "stdout",
     "output_type": "stream",
     "text": [
      "   total_items\n",
      "0     36184162\n"
     ]
    }
   ],
   "source": [
    "total_items_query = \"\"\"\n",
    "    SELECT SUM(quantity_ordered) AS total_items\n",
    "    FROM transactions_fact;\n",
    "\"\"\"\n",
    "\n",
    "total_items_df = pd.read_sql_query(total_items_query, conn)\n",
    "print(total_items_df)\n"
   ],
   "metadata": {
    "collapsed": false,
    "ExecuteTime": {
     "end_time": "2024-06-27T13:33:20.352681Z",
     "start_time": "2024-06-27T13:33:20.291731Z"
    }
   },
   "id": "ae40ffe558b36c0b",
   "execution_count": 7
  },
  {
   "cell_type": "markdown",
   "source": [
    "7. Unit Price "
   ],
   "metadata": {
    "collapsed": false
   },
   "id": "55874b6e13be1e9f"
  },
  {
   "cell_type": "code",
   "outputs": [
    {
     "name": "stdout",
     "output_type": "stream",
     "text": [
      "    product_code  unit_price\n",
      "0       S10_1678          66\n",
      "1       S10_1949          50\n",
      "2       S10_2016          42\n",
      "3       S10_4698          65\n",
      "4       S10_4757           1\n",
      "..           ...         ...\n",
      "104    S700_3505          49\n",
      "105    S700_3962          30\n",
      "106    S700_4002          16\n",
      "107     S72_1253          41\n",
      "108     S72_3212          46\n",
      "\n",
      "[109 rows x 2 columns]\n"
     ]
    }
   ],
   "source": [
    "unit_price_query = \"\"\"\n",
    "    SELECT product_code, \n",
    "           SUM(ABS(total_amount)) OVER (PARTITION BY product_code) / \n",
    "           SUM(quantity_ordered) OVER (PARTITION BY product_code) AS unit_price\n",
    "    FROM transactions_fact\n",
    "    GROUP BY product_code;\n",
    "\"\"\"\n",
    "\n",
    "unit_price_df = pd.read_sql_query(unit_price_query, conn)\n",
    "print(unit_price_df)"
   ],
   "metadata": {
    "collapsed": false,
    "ExecuteTime": {
     "end_time": "2024-06-27T13:33:21.945959Z",
     "start_time": "2024-06-27T13:33:21.536995Z"
    }
   },
   "id": "e083d1bedbb5863",
   "execution_count": 8
  },
  {
   "cell_type": "markdown",
   "source": [
    "8. Top 10 Customers "
   ],
   "metadata": {
    "collapsed": false
   },
   "id": "94d365a74369adc0"
  },
  {
   "cell_type": "code",
   "outputs": [
    {
     "name": "stdout",
     "output_type": "stream",
     "text": [
      "                  customer_name           phone  \\\n",
      "0         Euro Shopping Channel            None   \n",
      "1  Mini Gifts Distributors Ltd.  (415) 555-1450   \n",
      "2     Souveniers And Things Co.            None   \n",
      "3             Land of Toys Inc.  (212) 555-7818   \n",
      "4       Dragon Souveniers, Ltd.            None   \n",
      "5                AV Stores, Co.  (171) 555-1555   \n",
      "6             La Rochelle Gifts            None   \n",
      "7    Australian Collectors, Co.  (039) 520-4555   \n",
      "8          Technics Stores Inc.  (650) 555-6809   \n",
      "9      Danish Wholesale Imports            None   \n",
      "\n",
      "                                  address1 address2        city     state  \\\n",
      "0                       C/ Moralzarzal, 86     None      Madrid      None   \n",
      "1                          5677 Strong St.     None  San Rafael        CA   \n",
      "2  Monitor Money Building, 815 Pacific Hwy  Level 6   Chatswood       NSW   \n",
      "3                  897 Long Airport Avenue     None         NYC        NY   \n",
      "4     Bronz Sok., Bronz Apt. 3/6 Tesvikiye     None   Singapore      None   \n",
      "5                        Fauntleroy Circus     None  Manchester      None   \n",
      "6             67, rue des Cinquante Otages     None      Nantes      None   \n",
      "7                        636 St Kilda Road  Level 3   Melbourne  Victoria   \n",
      "8                        9408 Furth Circle     None  Burlingame        CA   \n",
      "9                             Vinb'ltet 34     None   Kobenhavn      None   \n",
      "\n",
      "  postal_code    country contact_last_name contact_first_name deal_size  \\\n",
      "0       28034      Spain            Freyre              Diego     Large   \n",
      "1       97562        USA            Nelson            Valarie     Large   \n",
      "2        2067  Australia            Huxley             Adrian     Large   \n",
      "3       10022        USA                Yu               Kwai     Large   \n",
      "4       79903  Singapore         Natividad               Eric     Large   \n",
      "5     EC2 5NT         UK          Ashworth           Victoria     Large   \n",
      "6       44000     France           Labrune             Janine     Large   \n",
      "7        3004  Australia          Ferguson              Peter     Large   \n",
      "8       94217        USA            Hirano               Juri     Large   \n",
      "9        1734    Denmark          Petersen              Jytte     Large   \n",
      "\n",
      "   total_sales  \n",
      "0    143745525  \n",
      "1    105889560  \n",
      "2     34350792  \n",
      "3     32898957  \n",
      "4     31369884  \n",
      "5     29214360  \n",
      "6     26812674  \n",
      "7     25918662  \n",
      "8     25469871  \n",
      "9     25379319  \n"
     ]
    }
   ],
   "source": [
    "top_customers_query = \"\"\"\n",
    "    SELECT t.customer_name, phone, address1, address2, city, state, postal_code, country, contact_last_name, contact_first_name, deal_size,\n",
    "           SUM(total_amount) AS total_sales\n",
    "    FROM transactions_fact AS t\n",
    "    JOIN customers_dim AS c ON t.customer_name = c.customer_name\n",
    "    WHERE total_amount > 0\n",
    "    GROUP BY t.customer_name\n",
    "    ORDER BY total_sales DESC\n",
    "    LIMIT 10;\n",
    "\"\"\"\n",
    "\n",
    "top_customers_df = pd.read_sql_query(top_customers_query, conn)\n",
    "print(top_customers_df)"
   ],
   "metadata": {
    "collapsed": false,
    "ExecuteTime": {
     "end_time": "2024-06-27T13:33:24.992340Z",
     "start_time": "2024-06-27T13:33:23.051764Z"
    }
   },
   "id": "5a4f4c5bf92f7bec",
   "execution_count": 9
  },
  {
   "cell_type": "markdown",
   "source": [
    "9. Aggregate on Fiscal Dates "
   ],
   "metadata": {
    "collapsed": false
   },
   "id": "e8d0e2476ec3a74a"
  },
  {
   "cell_type": "code",
   "outputs": [
    {
     "name": "stdout",
     "output_type": "stream",
     "text": [
      "    fiscal_year  fiscal_quarter  fiscal_month_number  total_sales  \\\n",
      "0          2020               1                    1      -173964   \n",
      "1          2020               1                    2      -217455   \n",
      "2          2020               1                    3      -173964   \n",
      "3          2020               2                    4      -173964   \n",
      "4          2020               2                    5      -217455   \n",
      "5          2020               2                    6      -173964   \n",
      "6          2020               3                    7      -173964   \n",
      "7          2020               3                    8      -217455   \n",
      "8          2020               3                    9      -173964   \n",
      "9          2020               4                   10      -173964   \n",
      "10         2020               4                   11      -217455   \n",
      "11         2020               4                   12      -173964   \n",
      "12         2021               1                    1       720104   \n",
      "13         2021               1                    2       900130   \n",
      "14         2021               1                    3       720104   \n",
      "15         2021               2                    4       720104   \n",
      "16         2021               2                    5       900130   \n",
      "17         2021               2                    6       720104   \n",
      "18         2021               3                    7       720104   \n",
      "19         2021               3                    8       900130   \n",
      "20         2021               3                    9       720104   \n",
      "21         2021               4                   10       720104   \n",
      "22         2021               4                   11       900130   \n",
      "23         2021               4                   12       720104   \n",
      "24         2022               1                    1      -584612   \n",
      "25         2022               1                    2      -730765   \n",
      "26         2022               1                    3      -584612   \n",
      "27         2022               2                    4      -584612   \n",
      "28         2022               2                    5      -730765   \n",
      "29         2022               2                    6      -584612   \n",
      "30         2022               3                    7      -584612   \n",
      "31         2022               3                    8      -730765   \n",
      "32         2022               3                    9      -584612   \n",
      "33         2022               4                   10      -584612   \n",
      "34         2022               4                   11      -730765   \n",
      "35         2022               4                   12      -584612   \n",
      "36         2023               1                    1     -1030232   \n",
      "37         2023               1                    2     -1287790   \n",
      "38         2023               1                    3     -1030232   \n",
      "39         2023               2                    4     -1030232   \n",
      "40         2023               2                    5     -1287790   \n",
      "41         2023               2                    6     -1030232   \n",
      "42         2023               3                    7     -1030232   \n",
      "43         2023               3                    8     -1287790   \n",
      "44         2023               3                    9     -1030232   \n",
      "45         2023               4                   10     -1030232   \n",
      "46         2023               4                   11     -1287790   \n",
      "47         2023               4                   12     -1287790   \n",
      "48         2024               1                    1        16968   \n",
      "49         2024               1                    2        21210   \n",
      "50         2024               1                    3        16968   \n",
      "51         2024               2                    4        16968   \n",
      "52         2024               2                    5        21210   \n",
      "53         2024               2                    6        16968   \n",
      "54         2024               3                    7        16968   \n",
      "55         2024               3                    8        21210   \n",
      "56         2024               3                    9        16968   \n",
      "57         2024               4                   10        16968   \n",
      "58         2024               4                   11        21210   \n",
      "59         2024               4                   12        16968   \n",
      "\n",
      "    total_refunds  total_items  \n",
      "0        -7610792       531552  \n",
      "1        -9513490       664440  \n",
      "2        -7610792       531552  \n",
      "3        -7610792       531552  \n",
      "4        -9513490       664440  \n",
      "5        -7610792       531552  \n",
      "6        -7610792       531552  \n",
      "7        -9513490       664440  \n",
      "8        -7610792       531552  \n",
      "9        -7610792       531552  \n",
      "10       -9513490       664440  \n",
      "11       -7610792       531552  \n",
      "12       -7999180       587076  \n",
      "13       -9998975       733845  \n",
      "14       -7999180       587076  \n",
      "15       -7999180       587076  \n",
      "16       -9998975       733845  \n",
      "17       -7999180       587076  \n",
      "18       -7999180       587076  \n",
      "19       -9998975       733845  \n",
      "20       -7999180       587076  \n",
      "21       -7999180       587076  \n",
      "22       -9998975       733845  \n",
      "23       -7999180       587076  \n",
      "24       -8271592       579264  \n",
      "25      -10339490       724080  \n",
      "26       -8271592       579264  \n",
      "27       -8271592       579264  \n",
      "28      -10339490       724080  \n",
      "29       -8271592       579264  \n",
      "30       -8271592       579264  \n",
      "31      -10339490       724080  \n",
      "32       -8271592       579264  \n",
      "33       -8271592       579264  \n",
      "34      -10339490       724080  \n",
      "35       -8271592       579264  \n",
      "36       -7986496       495096  \n",
      "37       -9983120       618870  \n",
      "38       -7986496       495096  \n",
      "39       -7986496       495096  \n",
      "40       -9983120       618870  \n",
      "41       -7986496       495096  \n",
      "42       -7986496       495096  \n",
      "43       -9983120       618870  \n",
      "44       -7986496       495096  \n",
      "45       -7986496       495096  \n",
      "46       -9983120       618870  \n",
      "47       -9983120       618870  \n",
      "48       -8256752       580888  \n",
      "49      -10320940       726110  \n",
      "50       -8256752       580888  \n",
      "51       -8256752       580888  \n",
      "52      -10320940       726110  \n",
      "53       -8256752       580888  \n",
      "54       -8256752       580888  \n",
      "55      -10320940       726110  \n",
      "56       -8256752       580888  \n",
      "57       -8256752       580888  \n",
      "58      -10320940       726110  \n",
      "59       -8256752       580888  \n"
     ]
    }
   ],
   "source": [
    "fiscal_query = \"\"\"\n",
    "    SELECT fiscal_year, fiscal_quarter, fiscal_month_number,\n",
    "           SUM(total_amount) AS total_sales,\n",
    "           SUM(CASE WHEN total_amount < 0 THEN total_amount ELSE 0 END) AS total_refunds,\n",
    "           SUM(quantity_ordered) AS total_items\n",
    "    FROM transactions_fact\n",
    "    GROUP BY fiscal_year, fiscal_quarter, fiscal_month_number;\n",
    "\"\"\"\n",
    "\n",
    "fiscal_aggregates_df = pd.read_sql_query(fiscal_query, conn)\n",
    "print(fiscal_aggregates_df)"
   ],
   "metadata": {
    "collapsed": false,
    "ExecuteTime": {
     "end_time": "2024-06-27T13:33:27.163394Z",
     "start_time": "2024-06-27T13:33:26.251401Z"
    }
   },
   "id": "25c6c62329937e23",
   "execution_count": 10
  },
  {
   "cell_type": "code",
   "outputs": [],
   "source": [],
   "metadata": {
    "collapsed": false
   },
   "id": "c4b502d767087ce9"
  }
 ],
 "metadata": {
  "kernelspec": {
   "display_name": "Python 3",
   "language": "python",
   "name": "python3"
  },
  "language_info": {
   "codemirror_mode": {
    "name": "ipython",
    "version": 2
   },
   "file_extension": ".py",
   "mimetype": "text/x-python",
   "name": "python",
   "nbconvert_exporter": "python",
   "pygments_lexer": "ipython2",
   "version": "2.7.6"
  }
 },
 "nbformat": 4,
 "nbformat_minor": 5
}
