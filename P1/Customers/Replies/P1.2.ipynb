{
 "cells": [
  {
   "cell_type": "markdown",
   "source": [
    "# Data to build the Final Object"
   ],
   "metadata": {
    "collapsed": false
   },
   "id": "2cc6290ed190e013"
  },
  {
   "cell_type": "markdown",
   "source": [
    "1. Ingest Data Files: The ingestion process will load files from external bucket (Ex:GCP) and load the files into a staging table using Snowpipe.For the purpose of this exercise, I will simulate that we are already in the Snowflake data warehouse. Reading the csv files into a df.\n"
   ],
   "metadata": {
    "collapsed": false
   },
   "id": "4c3aabada8c58df2"
  },
  {
   "cell_type": "code",
   "outputs": [],
   "source": [
    "import pandas as pd\n",
    "import sqlite3\n",
    "import glob\n",
    "import os\n",
    "\n",
    "data_path = '../data/'\n",
    "\n",
    "all_files = glob.glob(os.path.join(data_path, \"*.csv\"))\n",
    "\n",
    "# Check if files are found\n",
    "if not all_files:\n",
    "    raise ValueError(\"No CSV files found in the specified directory.\")\n",
    "\n",
    "# create a list of df in order to join all the files\n",
    "df_list = []\n",
    "for file in all_files:\n",
    "    try:\n",
    "        df = pd.read_csv(file)\n",
    "        df_list.append(df)\n",
    "    except Exception as e:\n",
    "        print(f\"Error reading {file}: {e}\")\n",
    "\n",
    "\n",
    "df = pd.concat(df_list, ignore_index=True)\n",
    "\n",
    "# Connect to an in-memory SQLite database\n",
    "conn = sqlite3.connect(':memory:')\n",
    "cursor = conn.cursor()\n"
   ],
   "metadata": {
    "collapsed": false,
    "ExecuteTime": {
     "end_time": "2024-06-26T23:15:15.055322Z",
     "start_time": "2024-06-26T23:15:14.728732Z"
    }
   },
   "id": "a4fa43d592238403",
   "execution_count": 1
  },
  {
   "cell_type": "markdown",
   "source": [
    "2. Load the concatenated df into a temporary table 'temp_table'."
   ],
   "metadata": {
    "collapsed": false
   },
   "id": "5ee134ec4459e48b"
  },
  {
   "cell_type": "code",
   "outputs": [
    {
     "data": {
      "text/plain": "4000"
     },
     "execution_count": 2,
     "metadata": {},
     "output_type": "execute_result"
    }
   ],
   "source": [
    "df.to_sql('temp_data', conn, index=False, if_exists='replace')"
   ],
   "metadata": {
    "collapsed": false,
    "ExecuteTime": {
     "end_time": "2024-06-26T23:15:16.977106Z",
     "start_time": "2024-06-26T23:15:16.944157Z"
    }
   },
   "id": "7371d9625f7ba488",
   "execution_count": 2
  },
  {
   "cell_type": "markdown",
   "source": [
    "3.Create companies table and inserting distinct values from 'temp_data' "
   ],
   "metadata": {
    "collapsed": false
   },
   "id": "cb44b1e6395d1e6"
  },
  {
   "cell_type": "code",
   "outputs": [
    {
     "data": {
      "text/plain": "<sqlite3.Cursor at 0x7f90185f5340>"
     },
     "execution_count": 3,
     "metadata": {},
     "output_type": "execute_result"
    }
   ],
   "source": [
    "companies_table_query = \"\"\"\n",
    "CREATE TABLE companies (\n",
    "    company_id INTEGER PRIMARY KEY AUTOINCREMENT,\n",
    "    company_name VARCHAR(100) NOT NULL,\n",
    "    web VARCHAR(100)\n",
    ");\n",
    "\n",
    "INSERT INTO companies (company_name, web)\n",
    "SELECT DISTINCT company_name, web FROM temp_data;\n",
    "\"\"\"\n",
    "cursor.executescript(companies_table_query)"
   ],
   "metadata": {
    "collapsed": false,
    "ExecuteTime": {
     "end_time": "2024-06-26T23:15:18.461060Z",
     "start_time": "2024-06-26T23:15:18.448957Z"
    }
   },
   "id": "673f38e45e50505",
   "execution_count": 3
  },
  {
   "cell_type": "markdown",
   "source": [
    "4.Create customers table with FK relationships"
   ],
   "metadata": {
    "collapsed": false
   },
   "id": "40f777d6235af583"
  },
  {
   "cell_type": "code",
   "outputs": [
    {
     "data": {
      "text/plain": "<sqlite3.Cursor at 0x7f90185f5340>"
     },
     "execution_count": 4,
     "metadata": {},
     "output_type": "execute_result"
    }
   ],
   "source": [
    "customers_table_query = \"\"\"\n",
    "CREATE TABLE customers (\n",
    "    customer_id INTEGER PRIMARY KEY AUTOINCREMENT,\n",
    "    first_name VARCHAR(50) NOT NULL,\n",
    "    last_name VARCHAR(50) NOT NULL,\n",
    "    address VARCHAR(255),\n",
    "    city VARCHAR(100),\n",
    "    province VARCHAR(50),\n",
    "    postal VARCHAR(20),\n",
    "    email VARCHAR(100) NOT NULL,\n",
    "    phone1 VARCHAR (20),\n",
    "    phone2 VARCHAR (20),\n",
    "    company_id INTEGER,\n",
    "    FOREIGN KEY (company_id) REFERENCES companies (company_id)\n",
    ");\n",
    "\n",
    "INSERT INTO customers (\n",
    "    first_name, last_name, address, city, province, postal, email, phone1, phone2, company_id\n",
    ")\n",
    "SELECT \n",
    "    first_name, last_name, address, city, province, postal, LOWER(TRIM(email)) AS email, phone1, phone2,\n",
    "    (SELECT company_id FROM companies WHERE companies.company_name = temp_data.company_name)\n",
    "FROM temp_data\n",
    "GROUP BY first_name, last_name, address, city, province, postal, email, phone1, phone2;\n",
    "\"\"\"\n",
    "cursor.executescript(customers_table_query)\n"
   ],
   "metadata": {
    "collapsed": false,
    "ExecuteTime": {
     "end_time": "2024-06-26T23:15:20.699921Z",
     "start_time": "2024-06-26T23:15:20.585943Z"
    }
   },
   "id": "62b507c31166194a",
   "execution_count": 4
  },
  {
   "cell_type": "markdown",
   "source": [
    "5.Load Final Data and Save to CSV"
   ],
   "metadata": {
    "collapsed": false
   },
   "id": "453df2fd808684f1"
  },
  {
   "cell_type": "code",
   "outputs": [
    {
     "data": {
      "text/plain": "   customer_id first_name  last_name                   address  \\\n0            1      Aaron     Kloska       423 S Navajo St #56   \n1            2       Abel    Maclead        37275 St  Rt 17m M   \n2            3    Abraham     Cratch            41 Benedict St   \n3            4    Adaline   Galagher  32716 N Michigan Ave #82   \n4            5      Adela  Echegoyen          128 W Kellogg Dr   \n\n              city province   postal                             email  \\\n0        Brookhill     None     None        aaron_kloska@kloska.net.au   \n1    Middle Island     None     None                amaclead@gmail.com   \n2  Aldborough Ward     None  IG2 7QG                 acratch@gmail.com   \n3          Barooga     None     None  adaline.galagher@galagher.com.au   \n4          Burnaby       BC  V5B 4L5     adela.echegoyen@echegoyen.org   \n\n         phone1        phone2           company_name  \\\n0  07-9896-4827  0473-600-733  Radecker, H Philip Jr   \n1  631-335-3414  631-677-3675    Rangoni Of Florence   \n2  01599-245408  01695-305111         Cavuto, John A   \n3  02-3225-1954  0416-156-336  Debbie Reynolds Hotel   \n4  604-571-8392  604-693-8094               Fpa Corp   \n\n                                     web  company_id  \n0    http://www.radeckerhphilipjr.com.au          69  \n1       http://www.rangoniofflorence.com        1008  \n2           http://www.cavutojohna.co.uk         567  \n3  http://www.debbiereynoldshotel.com.au         328  \n4                 http://www.fpacorp.com        1497  ",
      "text/html": "<div>\n<style scoped>\n    .dataframe tbody tr th:only-of-type {\n        vertical-align: middle;\n    }\n\n    .dataframe tbody tr th {\n        vertical-align: top;\n    }\n\n    .dataframe thead th {\n        text-align: right;\n    }\n</style>\n<table border=\"1\" class=\"dataframe\">\n  <thead>\n    <tr style=\"text-align: right;\">\n      <th></th>\n      <th>customer_id</th>\n      <th>first_name</th>\n      <th>last_name</th>\n      <th>address</th>\n      <th>city</th>\n      <th>province</th>\n      <th>postal</th>\n      <th>email</th>\n      <th>phone1</th>\n      <th>phone2</th>\n      <th>company_name</th>\n      <th>web</th>\n      <th>company_id</th>\n    </tr>\n  </thead>\n  <tbody>\n    <tr>\n      <th>0</th>\n      <td>1</td>\n      <td>Aaron</td>\n      <td>Kloska</td>\n      <td>423 S Navajo St #56</td>\n      <td>Brookhill</td>\n      <td>None</td>\n      <td>None</td>\n      <td>aaron_kloska@kloska.net.au</td>\n      <td>07-9896-4827</td>\n      <td>0473-600-733</td>\n      <td>Radecker, H Philip Jr</td>\n      <td>http://www.radeckerhphilipjr.com.au</td>\n      <td>69</td>\n    </tr>\n    <tr>\n      <th>1</th>\n      <td>2</td>\n      <td>Abel</td>\n      <td>Maclead</td>\n      <td>37275 St  Rt 17m M</td>\n      <td>Middle Island</td>\n      <td>None</td>\n      <td>None</td>\n      <td>amaclead@gmail.com</td>\n      <td>631-335-3414</td>\n      <td>631-677-3675</td>\n      <td>Rangoni Of Florence</td>\n      <td>http://www.rangoniofflorence.com</td>\n      <td>1008</td>\n    </tr>\n    <tr>\n      <th>2</th>\n      <td>3</td>\n      <td>Abraham</td>\n      <td>Cratch</td>\n      <td>41 Benedict St</td>\n      <td>Aldborough Ward</td>\n      <td>None</td>\n      <td>IG2 7QG</td>\n      <td>acratch@gmail.com</td>\n      <td>01599-245408</td>\n      <td>01695-305111</td>\n      <td>Cavuto, John A</td>\n      <td>http://www.cavutojohna.co.uk</td>\n      <td>567</td>\n    </tr>\n    <tr>\n      <th>3</th>\n      <td>4</td>\n      <td>Adaline</td>\n      <td>Galagher</td>\n      <td>32716 N Michigan Ave #82</td>\n      <td>Barooga</td>\n      <td>None</td>\n      <td>None</td>\n      <td>adaline.galagher@galagher.com.au</td>\n      <td>02-3225-1954</td>\n      <td>0416-156-336</td>\n      <td>Debbie Reynolds Hotel</td>\n      <td>http://www.debbiereynoldshotel.com.au</td>\n      <td>328</td>\n    </tr>\n    <tr>\n      <th>4</th>\n      <td>5</td>\n      <td>Adela</td>\n      <td>Echegoyen</td>\n      <td>128 W Kellogg Dr</td>\n      <td>Burnaby</td>\n      <td>BC</td>\n      <td>V5B 4L5</td>\n      <td>adela.echegoyen@echegoyen.org</td>\n      <td>604-571-8392</td>\n      <td>604-693-8094</td>\n      <td>Fpa Corp</td>\n      <td>http://www.fpacorp.com</td>\n      <td>1497</td>\n    </tr>\n  </tbody>\n</table>\n</div>"
     },
     "execution_count": 5,
     "metadata": {},
     "output_type": "execute_result"
    }
   ],
   "source": [
    "final_data_query = \"\"\"\n",
    "SELECT \n",
    "    customers.customer_id, customers.first_name, customers.last_name, customers.address, \n",
    "    customers.city, customers.province, customers.postal, customers.email, \n",
    "    customers.phone1, customers.phone2, companies.company_name, companies.web, companies.company_id\n",
    "FROM customers\n",
    "JOIN companies ON customers.company_id = companies.company_id;\n",
    "\"\"\"\n",
    "final_df = pd.read_sql(final_data_query, conn)\n",
    "\n",
    "# Save the consolidated data to a new CSV file\n",
    "output_path = '../data/'\n",
    "final_df.to_csv(os.path.join(output_path, 'consolidated_customer_data.csv'), index=False)\n",
    "\n",
    "# Display a sample of the data\n",
    "final_df.head()"
   ],
   "metadata": {
    "collapsed": false,
    "ExecuteTime": {
     "end_time": "2024-06-26T23:15:23.021046Z",
     "start_time": "2024-06-26T23:15:22.980495Z"
    }
   },
   "id": "1e43cd56482c1d45",
   "execution_count": 5
  },
  {
   "cell_type": "markdown",
   "source": [
    "P1.4 How will you keep the data secure and confidential?\n",
    "1. Data encryption\n",
    "2. Access control - strict access control\n",
    "3. Data masking - obscure sensitive information\n",
    "4. Enable audit logging-keep track of access and changes\n",
    "5. Security audits\n",
    "6. DB security configuraion- strong passwords, regularly updating db\n"
   ],
   "metadata": {
    "collapsed": false
   },
   "id": "ae6c425998c2196b"
  }
 ],
 "metadata": {
  "kernelspec": {
   "display_name": "Python 3",
   "language": "python",
   "name": "python3"
  },
  "language_info": {
   "codemirror_mode": {
    "name": "ipython",
    "version": 2
   },
   "file_extension": ".py",
   "mimetype": "text/x-python",
   "name": "python",
   "nbconvert_exporter": "python",
   "pygments_lexer": "ipython2",
   "version": "2.7.6"
  }
 },
 "nbformat": 4,
 "nbformat_minor": 5
}
